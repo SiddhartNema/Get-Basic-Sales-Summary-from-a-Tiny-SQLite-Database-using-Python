{
 "cells": [
  {
   "cell_type": "code",
   "execution_count": 1,
   "id": "6958d822-6c54-4343-b908-ed2ff015ad29",
   "metadata": {},
   "outputs": [],
   "source": [
    "import sqlite3"
   ]
  },
  {
   "cell_type": "code",
   "execution_count": 2,
   "id": "fe2c4217-06d9-4951-b004-4362c193d221",
   "metadata": {},
   "outputs": [],
   "source": [
    "# Step 1: Create connection\n",
    "conn = sqlite3.connect(\"sales_data.db\")\n",
    "cursor = conn.cursor()"
   ]
  },
  {
   "cell_type": "code",
   "execution_count": 3,
   "id": "9e1c2f49-23e0-4125-a525-8c77c396b613",
   "metadata": {},
   "outputs": [
    {
     "data": {
      "text/plain": [
       "<sqlite3.Cursor at 0x1053653d7a0>"
      ]
     },
     "execution_count": 3,
     "metadata": {},
     "output_type": "execute_result"
    }
   ],
   "source": [
    "# Step 2: Create sales table\n",
    "cursor.execute(\"\"\"\n",
    "CREATE TABLE IF NOT EXISTS sales (\n",
    "    id INTEGER PRIMARY KEY,\n",
    "    product TEXT,\n",
    "    quantity INTEGER,\n",
    "    price REAL\n",
    ")\n",
    "\"\"\")\n"
   ]
  },
  {
   "cell_type": "code",
   "execution_count": 4,
   "id": "fb7acacc-905e-43b2-a28f-35f29567daab",
   "metadata": {},
   "outputs": [],
   "source": [
    "# Step 3: Insert sample data\n",
    "sample_data = [\n",
    "    ('Apple', 10, 2.5),\n",
    "    ('Banana', 20, 1.0),\n",
    "    ('Orange', 15, 1.5),\n",
    "    ('Apple', 5, 2.5),\n",
    "    ('Banana', 10, 1.0),\n",
    "    ('Orange', 5, 1.5)\n",
    "]\n",
    "\n",
    "cursor.executemany(\"INSERT INTO sales (product, quantity, price) VALUES (?, ?, ?)\", sample_data)\n",
    "conn.commit()\n",
    "conn.close()\n"
   ]
  },
  {
   "cell_type": "code",
   "execution_count": 5,
   "id": "07641151-f7ff-41ce-a7df-6e8d5270cf63",
   "metadata": {},
   "outputs": [],
   "source": [
    "import sqlite3\n",
    "import pandas as pd\n",
    "import matplotlib.pyplot as plt\n",
    "\n"
   ]
  },
  {
   "cell_type": "code",
   "execution_count": 6,
   "id": "f7febabc-3065-4d8a-9a96-fde5291f3952",
   "metadata": {},
   "outputs": [],
   "source": [
    "# Step 1: Connect to DB\n",
    "conn = sqlite3.connect(\"sales_data.db\")"
   ]
  },
  {
   "cell_type": "code",
   "execution_count": 7,
   "id": "b479772d-3c6b-4250-81d9-02a0000f98a3",
   "metadata": {},
   "outputs": [],
   "source": [
    "# Step 2: SQL Query for summary\n",
    "query = \"\"\"\n",
    "SELECT \n",
    "    product, \n",
    "    SUM(quantity) AS total_qty, \n",
    "    SUM(quantity * price) AS revenue \n",
    "FROM sales \n",
    "GROUP BY product\n",
    "\"\"\""
   ]
  },
  {
   "cell_type": "code",
   "execution_count": 8,
   "id": "73d5e715-e228-4912-b828-871c1c83f29b",
   "metadata": {},
   "outputs": [
    {
     "name": "stdout",
     "output_type": "stream",
     "text": [
      "Sales Summary:\n",
      "   product  total_qty  revenue\n",
      "0   Apple         15     37.5\n",
      "1  Banana         30     30.0\n",
      "2  Orange         20     30.0\n"
     ]
    }
   ],
   "source": [
    "# Step 3: Read results into pandas\n",
    "df = pd.read_sql_query(query, conn)\n",
    "print(\"Sales Summary:\\n\", df)\n",
    "\n",
    "# Step 4: Close connection\n",
    "conn.close()\n"
   ]
  },
  {
   "cell_type": "code",
   "execution_count": 9,
   "id": "553dfd28-8f2b-49ae-a534-0b127031eac3",
   "metadata": {},
   "outputs": [
    {
     "data": {
      "image/png": "[encoded data removed]",
      "text/plain": [
       "<Figure size 640x480 with 1 Axes>"
      ]
     },
     "metadata": {},
     "output_type": "display_data"
    }
   ],
   "source": [
    "# Step 5: Bar Chart\n",
    "df.plot(kind='bar', x='product', y='revenue', title='Revenue by Product', legend=False, color='skyblue')\n",
    "plt.ylabel(\"Revenue\")\n",
    "plt.xlabel(\"Product\")\n",
    "plt.tight_layout()\n",
    "\n",
    "# Step 6: Save the chart (optional)\n",
    "plt.savefig(\"sales_chart.png\")\n",
    "\n",
    "# Step 7: Show chart\n",
    "plt.show()\n"
   ]
  },
  {
   "cell_type": "code",
   "execution_count": null,
   "id": "2f6ee3f4-cac8-4f25-a456-0ac02ee297db",
   "metadata": {},
   "outputs": [],
   "source": []
  }
 ],
 "metadata": {
  "kernelspec": {
   "display_name": "Python 3 (ipykernel)",
   "language": "python",
   "name": "python3"
  },
  "language_info": {
   "codemirror_mode": {
    "name": "ipython",
    "version": 3
   },
   "file_extension": ".py",
   "mimetype": "text/x-python",
   "name": "python",
   "nbconvert_exporter": "python",
   "pygments_lexer": "ipython3",
   "version": "3.9.6"
  }
 },
 "nbformat": 4,
 "nbformat_minor": 5
}
